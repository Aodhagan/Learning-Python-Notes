{
 "cells": [
  {
   "attachments": {},
   "cell_type": "markdown",
   "metadata": {},
   "source": [
    "# Chapter 1 Quiz\n",
    "1. What are the six main reasons that people choose to use Python\n",
    "- software quality - Python code is designed to be readable and is reusable and maintainable\n",
    "- developer productivity - Python code is 1/3 to 1/5 the size of equivalent Java code there is less to type and less to debug\n",
    "- portability - Python programs can be run on all major platforms and devices.\n",
    "- Support libraries - possesses a large collection of prebuilt and portable functionality known as the **standard library**. E.g. NumPy HHas been described as more powerful to MatLab\n",
    "- component integration - Python code can invoke C and C++ libraries and can integrate with Java components. It can interface with devices over serial ports.\n",
    "- Enjoyment - because of its ease of use it can make the act of programming more pleasure than a chore\n",
    "\n",
    "2. Name 4 notable companies or organisations using Python today\n",
    "- Google\n",
    "- NASA\n",
    "- NSA\n",
    "- Netflix\n",
    "\n",
    "3. Why might you not want to use Python in an application?\n",
    "if you require a lot of speed of your application program then Python may not be best suitable as it is a higher level language that is slower than languages such as C.\n",
    "\n",
    "4. What can you do with Python?\n",
    "- Python's inbuilt interfaces to operating systems make it ideal for writing portable system administration tools\n",
    "- it can be used for a graphical user interface programming\n",
    "- Internet scripting - Python can perform a wide variety of networking tasks, Communicate over sockets transfer files by FTP, Paris emails, fetch webpages by URLs\n",
    "- Database programming - Python interfaces to all commonly used relational database systems\n",
    "- Scientific computing via NumPy\n",
    "\n",
    "5. What is the significance of the `import this` statement?\n",
    "It prints out a message on the console outlining Python's philosophy\n",
    "\n",
    "6. Why does \"spam\" show up in many Python examples in books and on the web?\n",
    "Because the name of the language \"Python\" pertains the the popular comedy series \"Monty Pythons Flying Circus\"\n",
    "\n",
    "7. What is your favourite colour?\n",
    "Blue\n",
    "\n",
    "\"When people write software they are not writing it for themselves. In fact, they are not even writing primarily for the computer. Rather, good programmers know that code is written for the next human being who has to read it in order to maintain our reuse it. If that person cannot understand the code, it's all but useless in a realistic development scenario.\"\n",
    "\n",
    "\"Programming is not about being clever and obscure - it's about how clearly your program communicates its purpose\""
   ]
  }
 ],
 "metadata": {
  "kernelspec": {
   "display_name": "Python 3",
   "language": "python",
   "name": "python3"
  },
  "language_info": {
   "codemirror_mode": {
    "name": "ipython",
    "version": 3
   },
   "file_extension": ".py",
   "mimetype": "text/x-python",
   "name": "python",
   "nbconvert_exporter": "python",
   "pygments_lexer": "ipython3",
   "version": "3.8.3 (default, Jul  2 2020, 17:30:36) [MSC v.1916 64 bit (AMD64)]"
  },
  "orig_nbformat": 4,
  "vscode": {
   "interpreter": {
    "hash": "7b1105d5518086756ddde47859171e3a41271c7ff2cc701ae1693ed1adcf2e14"
   }
  }
 },
 "nbformat": 4,
 "nbformat_minor": 2
}
